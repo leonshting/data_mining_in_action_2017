{
 "cells": [
  {
   "cell_type": "code",
   "execution_count": 2,
   "metadata": {
    "collapsed": true,
    "run_control": {
     "frozen": false,
     "read_only": false
    }
   },
   "outputs": [],
   "source": [
    "pd.set_option('max_columns', 100)"
   ]
  },
  {
   "cell_type": "code",
   "execution_count": 4,
   "metadata": {
    "collapsed": true
   },
   "outputs": [],
   "source": [
    "import matplotlib.pyplot as plt\n",
    "%matplotlib inline"
   ]
  },
  {
   "cell_type": "markdown",
   "metadata": {
    "run_control": {
     "frozen": false,
     "read_only": false
    }
   },
   "source": [
    "# Load the data"
   ]
  },
  {
   "cell_type": "code",
   "execution_count": 1,
   "metadata": {
    "run_control": {
     "frozen": false,
     "read_only": false
    }
   },
   "outputs": [
    {
     "data": {
      "text/html": [
       "<div>\n",
       "<style>\n",
       "    .dataframe thead tr:only-child th {\n",
       "        text-align: right;\n",
       "    }\n",
       "\n",
       "    .dataframe thead th {\n",
       "        text-align: left;\n",
       "    }\n",
       "\n",
       "    .dataframe tbody tr th {\n",
       "        vertical-align: top;\n",
       "    }\n",
       "</style>\n",
       "<table border=\"1\" class=\"dataframe\">\n",
       "  <thead>\n",
       "    <tr style=\"text-align: right;\">\n",
       "      <th></th>\n",
       "      <th>x0</th>\n",
       "      <th>x1</th>\n",
       "      <th>x2</th>\n",
       "      <th>x3</th>\n",
       "      <th>x4</th>\n",
       "      <th>x5</th>\n",
       "      <th>x6</th>\n",
       "      <th>x7</th>\n",
       "      <th>x8</th>\n",
       "      <th>x9</th>\n",
       "      <th>...</th>\n",
       "      <th>x53</th>\n",
       "      <th>x54</th>\n",
       "      <th>x55</th>\n",
       "      <th>x56</th>\n",
       "      <th>x57</th>\n",
       "      <th>x58</th>\n",
       "      <th>x59</th>\n",
       "      <th>x60</th>\n",
       "      <th>x61</th>\n",
       "      <th>y</th>\n",
       "    </tr>\n",
       "  </thead>\n",
       "  <tbody>\n",
       "    <tr>\n",
       "      <th>0</th>\n",
       "      <td>b4d8a653ea</td>\n",
       "      <td>16a14a2d17</td>\n",
       "      <td>06330986ed</td>\n",
       "      <td>ca63304de0</td>\n",
       "      <td>a62168d626</td>\n",
       "      <td>1746600cb0</td>\n",
       "      <td>1</td>\n",
       "      <td>1</td>\n",
       "      <td>-0.688706</td>\n",
       "      <td>7e5c97705a</td>\n",
       "      <td>...</td>\n",
       "      <td>0.235333</td>\n",
       "      <td>0.264952</td>\n",
       "      <td>0.000000</td>\n",
       "      <td>0.333333</td>\n",
       "      <td>0.333333</td>\n",
       "      <td>0.333333</td>\n",
       "      <td>0.000000</td>\n",
       "      <td>0.000000</td>\n",
       "      <td>9.0</td>\n",
       "      <td>2</td>\n",
       "    </tr>\n",
       "    <tr>\n",
       "      <th>1</th>\n",
       "      <td>467f9617a3</td>\n",
       "      <td>16a14a2d17</td>\n",
       "      <td>06330986ed</td>\n",
       "      <td>ca63304de0</td>\n",
       "      <td>b7584c2d52</td>\n",
       "      <td>1746600cb0</td>\n",
       "      <td>1</td>\n",
       "      <td>1</td>\n",
       "      <td>0.870871</td>\n",
       "      <td>5624b8f759</td>\n",
       "      <td>...</td>\n",
       "      <td>1.782346</td>\n",
       "      <td>1.322409</td>\n",
       "      <td>0.011647</td>\n",
       "      <td>0.397671</td>\n",
       "      <td>0.239601</td>\n",
       "      <td>0.249584</td>\n",
       "      <td>0.068220</td>\n",
       "      <td>0.033278</td>\n",
       "      <td>601.0</td>\n",
       "      <td>4</td>\n",
       "    </tr>\n",
       "    <tr>\n",
       "      <th>2</th>\n",
       "      <td>190436e528</td>\n",
       "      <td>16a14a2d17</td>\n",
       "      <td>06330986ed</td>\n",
       "      <td>ca63304de0</td>\n",
       "      <td>b7584c2d52</td>\n",
       "      <td>1746600cb0</td>\n",
       "      <td>1</td>\n",
       "      <td>1</td>\n",
       "      <td>0.437655</td>\n",
       "      <td>5624b8f759</td>\n",
       "      <td>...</td>\n",
       "      <td>-0.586540</td>\n",
       "      <td>0.672436</td>\n",
       "      <td>0.000000</td>\n",
       "      <td>0.606061</td>\n",
       "      <td>0.121212</td>\n",
       "      <td>0.212121</td>\n",
       "      <td>0.060606</td>\n",
       "      <td>0.000000</td>\n",
       "      <td>33.0</td>\n",
       "      <td>3</td>\n",
       "    </tr>\n",
       "    <tr>\n",
       "      <th>3</th>\n",
       "      <td>43859085bc</td>\n",
       "      <td>16a14a2d17</td>\n",
       "      <td>06330986ed</td>\n",
       "      <td>ca63304de0</td>\n",
       "      <td>a62168d626</td>\n",
       "      <td>1746600cb0</td>\n",
       "      <td>1</td>\n",
       "      <td>1</td>\n",
       "      <td>0.004439</td>\n",
       "      <td>f67f142e40</td>\n",
       "      <td>...</td>\n",
       "      <td>-1.600326</td>\n",
       "      <td>-1.838680</td>\n",
       "      <td>0.000000</td>\n",
       "      <td>1.000000</td>\n",
       "      <td>0.000000</td>\n",
       "      <td>0.000000</td>\n",
       "      <td>0.000000</td>\n",
       "      <td>0.000000</td>\n",
       "      <td>1.0</td>\n",
       "      <td>4</td>\n",
       "    </tr>\n",
       "    <tr>\n",
       "      <th>4</th>\n",
       "      <td>a4c3095b75</td>\n",
       "      <td>16a14a2d17</td>\n",
       "      <td>06330986ed</td>\n",
       "      <td>ca63304de0</td>\n",
       "      <td>b7584c2d52</td>\n",
       "      <td>1746600cb0</td>\n",
       "      <td>1</td>\n",
       "      <td>1</td>\n",
       "      <td>0.480977</td>\n",
       "      <td>7e5c97705a</td>\n",
       "      <td>...</td>\n",
       "      <td>0.960991</td>\n",
       "      <td>0.790990</td>\n",
       "      <td>0.020161</td>\n",
       "      <td>0.645161</td>\n",
       "      <td>0.258065</td>\n",
       "      <td>0.036290</td>\n",
       "      <td>0.040323</td>\n",
       "      <td>0.000000</td>\n",
       "      <td>248.0</td>\n",
       "      <td>3</td>\n",
       "    </tr>\n",
       "  </tbody>\n",
       "</table>\n",
       "<p>5 rows × 63 columns</p>\n",
       "</div>"
      ],
      "text/plain": [
       "           x0          x1          x2          x3          x4          x5  x6  \\\n",
       "0  b4d8a653ea  16a14a2d17  06330986ed  ca63304de0  a62168d626  1746600cb0   1   \n",
       "1  467f9617a3  16a14a2d17  06330986ed  ca63304de0  b7584c2d52  1746600cb0   1   \n",
       "2  190436e528  16a14a2d17  06330986ed  ca63304de0  b7584c2d52  1746600cb0   1   \n",
       "3  43859085bc  16a14a2d17  06330986ed  ca63304de0  a62168d626  1746600cb0   1   \n",
       "4  a4c3095b75  16a14a2d17  06330986ed  ca63304de0  b7584c2d52  1746600cb0   1   \n",
       "\n",
       "   x7        x8          x9 ...       x53       x54       x55       x56  \\\n",
       "0   1 -0.688706  7e5c97705a ...  0.235333  0.264952  0.000000  0.333333   \n",
       "1   1  0.870871  5624b8f759 ...  1.782346  1.322409  0.011647  0.397671   \n",
       "2   1  0.437655  5624b8f759 ... -0.586540  0.672436  0.000000  0.606061   \n",
       "3   1  0.004439  f67f142e40 ... -1.600326 -1.838680  0.000000  1.000000   \n",
       "4   1  0.480977  7e5c97705a ...  0.960991  0.790990  0.020161  0.645161   \n",
       "\n",
       "        x57       x58       x59       x60    x61  y  \n",
       "0  0.333333  0.333333  0.000000  0.000000    9.0  2  \n",
       "1  0.239601  0.249584  0.068220  0.033278  601.0  4  \n",
       "2  0.121212  0.212121  0.060606  0.000000   33.0  3  \n",
       "3  0.000000  0.000000  0.000000  0.000000    1.0  4  \n",
       "4  0.258065  0.036290  0.040323  0.000000  248.0  3  \n",
       "\n",
       "[5 rows x 63 columns]"
      ]
     },
     "execution_count": 1,
     "metadata": {},
     "output_type": "execute_result"
    }
   ],
   "source": [
    "import pandas as pd\n",
    "train = pd.read_csv('./train.csv')\n",
    "train.head()"
   ]
  },
  {
   "cell_type": "markdown",
   "metadata": {
    "run_control": {
     "frozen": false,
     "read_only": false
    }
   },
   "source": [
    "# Build a quick baseline"
   ]
  },
  {
   "cell_type": "code",
   "execution_count": 2,
   "metadata": {
    "run_control": {
     "frozen": false,
     "read_only": false
    },
    "scrolled": true
   },
   "outputs": [
    {
     "data": {
      "text/plain": [
       "RandomForestClassifier(bootstrap=True, class_weight=None, criterion='gini',\n",
       "            max_depth=None, max_features='auto', max_leaf_nodes=None,\n",
       "            min_impurity_split=1e-07, min_samples_leaf=1,\n",
       "            min_samples_split=2, min_weight_fraction_leaf=0.0,\n",
       "            n_estimators=10, n_jobs=1, oob_score=False, random_state=None,\n",
       "            verbose=0, warm_start=False)"
      ]
     },
     "execution_count": 2,
     "metadata": {},
     "output_type": "execute_result"
    }
   ],
   "source": [
    "from sklearn.ensemble import RandomForestClassifier\n",
    "\n",
    "# Create a copy to work with\n",
    "X = train.copy()\n",
    "\n",
    "# Save and drop labels\n",
    "y = train.y\n",
    "X = X.drop('y', axis=1)\n",
    "\n",
    "# fill NANs \n",
    "X = X.fillna(-999)\n",
    "\n",
    "# Label encoder\n",
    "for c in train.columns[train.dtypes == 'object']:\n",
    "    X[c] = X[c].factorize()[0]\n",
    "    \n",
    "rf = RandomForestClassifier()\n",
    "rf.fit(X,y)"
   ]
  },
  {
   "cell_type": "code",
   "execution_count": 5,
   "metadata": {
    "run_control": {
     "frozen": false,
     "read_only": false
    }
   },
   "outputs": [
    {
     "ename": "NameError",
     "evalue": "name 'np' is not defined",
     "output_type": "error",
     "traceback": [
      "\u001b[0;31m---------------------------------------------------------------------------\u001b[0m",
      "\u001b[0;31mNameError\u001b[0m                                 Traceback (most recent call last)",
      "\u001b[0;32m<ipython-input-5-6125e0883885>\u001b[0m in \u001b[0;36m<module>\u001b[0;34m()\u001b[0m\n\u001b[1;32m      1\u001b[0m \u001b[0mplt\u001b[0m\u001b[0;34m.\u001b[0m\u001b[0mplot\u001b[0m\u001b[0;34m(\u001b[0m\u001b[0mrf\u001b[0m\u001b[0;34m.\u001b[0m\u001b[0mfeature_importances_\u001b[0m\u001b[0;34m)\u001b[0m\u001b[0;34m\u001b[0m\u001b[0m\n\u001b[0;32m----> 2\u001b[0;31m \u001b[0mplt\u001b[0m\u001b[0;34m.\u001b[0m\u001b[0mxticks\u001b[0m\u001b[0;34m(\u001b[0m\u001b[0mnp\u001b[0m\u001b[0;34m.\u001b[0m\u001b[0marange\u001b[0m\u001b[0;34m(\u001b[0m\u001b[0mX\u001b[0m\u001b[0;34m.\u001b[0m\u001b[0mshape\u001b[0m\u001b[0;34m[\u001b[0m\u001b[0;36m1\u001b[0m\u001b[0;34m]\u001b[0m\u001b[0;34m)\u001b[0m\u001b[0;34m,\u001b[0m \u001b[0mX\u001b[0m\u001b[0;34m.\u001b[0m\u001b[0mcolumns\u001b[0m\u001b[0;34m.\u001b[0m\u001b[0mtolist\u001b[0m\u001b[0;34m(\u001b[0m\u001b[0;34m)\u001b[0m\u001b[0;34m,\u001b[0m \u001b[0mrotation\u001b[0m\u001b[0;34m=\u001b[0m\u001b[0;36m90\u001b[0m\u001b[0;34m)\u001b[0m\u001b[0;34m;\u001b[0m\u001b[0;34m\u001b[0m\u001b[0m\n\u001b[0m",
      "\u001b[0;31mNameError\u001b[0m: name 'np' is not defined"
     ]
    },
    {
     "data": {
      "image/png": "[encoded data removed]",
      "text/plain": [
       "<matplotlib.figure.Figure at 0x118681d90>"
      ]
     },
     "metadata": {},
     "output_type": "display_data"
    }
   ],
   "source": [
    "plt.plot(rf.feature_importances_)\n",
    "plt.xticks(np.arange(X.shape[1]), X.columns.tolist(), rotation=90);"
   ]
  },
  {
   "cell_type": "markdown",
   "metadata": {
    "run_control": {
     "frozen": false,
     "read_only": false
    }
   },
   "source": [
    "There is something interesting about `x8`."
   ]
  },
  {
   "cell_type": "code",
   "execution_count": 6,
   "metadata": {
    "run_control": {
     "frozen": false,
     "read_only": false
    }
   },
   "outputs": [
    {
     "name": "stdout",
     "output_type": "stream",
     "text": [
      "Mean: -0.000252352028622\n",
      "std: 1.02328163601\n"
     ]
    }
   ],
   "source": [
    "# we see it was standard scaled, most likely, if we concat train and test, we will get exact mean=1, and std 1 \n",
    "print 'Mean:', train.x8.mean()\n",
    "print 'std:', train.x8.std()"
   ]
  },
  {
   "cell_type": "code",
   "execution_count": 7,
   "metadata": {
    "run_control": {
     "frozen": false,
     "read_only": false
    },
    "scrolled": true
   },
   "outputs": [
    {
     "data": {
      "text/plain": [
       "-2.984750    2770\n",
       " 0.480977    2569\n",
       " 0.610941    1828\n",
       " 0.654263    1759\n",
       " 0.567620    1746\n",
       " 0.697585    1691\n",
       " 0.524298    1639\n",
       " 0.740906    1628\n",
       " 0.394333    1610\n",
       " 0.437655    1513\n",
       " 0.351012    1450\n",
       " 0.264369    1429\n",
       " 0.307690    1401\n",
       " 0.221047    1372\n",
       " 0.784228    1293\n",
       "Name: x8, dtype: int64"
      ]
     },
     "execution_count": 7,
     "metadata": {},
     "output_type": "execute_result"
    }
   ],
   "source": [
    "# And we see that it has a lot of repeated values\n",
    "train.x8.value_counts().head(15)"
   ]
  },
  {
   "cell_type": "code",
   "execution_count": 8,
   "metadata": {
    "run_control": {
     "frozen": false,
     "read_only": false
    }
   },
   "outputs": [
    {
     "data": {
      "text/plain": [
       "array([ 43.27826527,  38.98942817,   0.21660793,   0.04332159,\n",
       "         0.17328635,   0.21660793,   0.08664317,   0.04332159,\n",
       "         0.04332159,   0.04332159,   0.04332159,   0.04332159,\n",
       "         0.04332159,   0.04332159,   0.04332159,   0.04332159,\n",
       "         0.04332159,   0.04332159,   0.04332159,   0.04332159,\n",
       "         0.04332159,   0.04332159,   0.04332159,   0.04332159,\n",
       "         0.04332159,   0.04332159,   0.04332159,   0.04332159,\n",
       "         0.04332159,   0.04332159,   0.04332159,   0.04332159,\n",
       "         0.04332159,   0.04332159,   0.04332159,   0.04332159,\n",
       "         0.04332159,   0.04332159,   0.04332159,   0.04332159,\n",
       "         0.04332159,   0.04332159,   0.04332159,   0.04332159,\n",
       "         0.04332159,   0.04332159,   0.04332159,   0.04332159,\n",
       "         0.04332159,   0.04332159,   0.04332159,   0.04332159,\n",
       "         0.04332159,   0.04332159,   0.04332159,   0.04332159,\n",
       "         0.04332159,   0.04332159,   0.04332159,   0.04332159,\n",
       "         0.04332159,   0.04332159,   0.04332159,   0.04332159,\n",
       "         0.04332159,   0.04332159,   0.04332159,   0.04332159,\n",
       "         0.04332159,   0.04332159,   0.04332159,   0.04332159,\n",
       "         0.04332159,   0.04332159,   0.04332159,   0.04332159,\n",
       "         0.04332159,   0.04332159,   0.04332159,   0.04332159,\n",
       "         0.04332159,   0.04332159,   0.04332159,   0.04332159,\n",
       "         0.04332159,   0.04332159,   0.12996476,   0.04332159,\n",
       "         0.04332159,   0.04332159,   0.04332159,   0.04332159,\n",
       "         0.04332159,   0.04332159,   0.21660793,   1.16968285,\n",
       "         0.04332159,   0.38989428,          nan])"
      ]
     },
     "execution_count": 8,
     "metadata": {},
     "output_type": "execute_result"
    }
   ],
   "source": [
    "# It's very hard to work with scaled feature, so let's try to scale them back\n",
    "# Let's first take a look at difference between neighbouring values in x8\n",
    "\n",
    "x8_unique = train.x8.unique()\n",
    "x8_unique_sorted = np.sort(x8_unique)\n",
    "                           \n",
    "np.diff(x8_unique_sorted)"
   ]
  },
  {
   "cell_type": "code",
   "execution_count": 9,
   "metadata": {
    "run_control": {
     "frozen": false,
     "read_only": false
    }
   },
   "outputs": [
    {
     "data": {
      "text/plain": [
       "array([ 998.99992752,  899.9999347 ,    4.99999964,    0.99999993,\n",
       "          3.99999971,    4.99999964,    1.99999985,    0.99999993,\n",
       "          0.99999993,    0.99999993,    0.99999993,    0.99999993,\n",
       "          0.99999993,    0.99999993,    0.99999993,    0.99999993,\n",
       "          0.99999993,    0.99999993,    0.99999993,    0.99999993,\n",
       "          0.99999993,    0.99999993,    0.99999993,    0.99999993,\n",
       "          0.99999993,    0.99999993,    0.99999993,    0.99999993,\n",
       "          0.99999993,    0.99999993,    0.99999993,    0.99999993,\n",
       "          0.99999993,    0.99999993,    0.99999993,    0.99999993,\n",
       "          0.99999993,    0.99999993,    0.99999993,    0.99999993,\n",
       "          0.99999993,    0.99999993,    0.99999993,    0.99999993,\n",
       "          0.99999993,    0.99999993,    0.99999993,    0.99999993,\n",
       "          0.99999993,    0.99999993,    0.99999993,    0.99999993,\n",
       "          0.99999993,    0.99999993,    0.99999993,    0.99999993,\n",
       "          0.99999993,    0.99999993,    0.99999993,    0.99999993,\n",
       "          0.99999993,    0.99999993,    0.99999993,    0.99999993,\n",
       "          0.99999993,    0.99999993,    0.99999993,    0.99999993,\n",
       "          0.99999993,    0.99999993,    0.99999993,    0.99999993,\n",
       "          0.99999993,    0.99999993,    0.99999993,    0.99999993,\n",
       "          0.99999993,    0.99999993,    0.99999993,    0.99999993,\n",
       "          0.99999993,    0.99999993,    0.99999993,    0.99999993,\n",
       "          0.99999993,    0.99999993,    2.99999978,    0.99999993,\n",
       "          0.99999993,    0.99999993,    0.99999993,    0.99999993,\n",
       "          0.99999993,    0.99999993,    4.99999964,   26.99999804,\n",
       "          0.99999993,    8.99999935,           nan])"
      ]
     },
     "execution_count": 9,
     "metadata": {},
     "output_type": "execute_result"
    }
   ],
   "source": [
    "# The most of the diffs are 0.04332159! \n",
    "# The data is scaled, so we don't know what was the diff value for the original feature\n",
    "# But let's assume it was 1.0\n",
    "# Let's devide all the numbers by 0.04332159 to get the right scaling\n",
    "# note, that feature will still have zero mean\n",
    "\n",
    "np.diff(x8_unique_sorted/0.04332159)"
   ]
  },
  {
   "cell_type": "code",
   "execution_count": 10,
   "metadata": {
    "run_control": {
     "frozen": false,
     "read_only": false
    }
   },
   "outputs": [
    {
     "data": {
      "text/plain": [
       "0   -15.897530\n",
       "1    20.102468\n",
       "2    10.102468\n",
       "3     0.102469\n",
       "4    11.102468\n",
       "5   -68.897526\n",
       "6    10.102468\n",
       "7    15.102468\n",
       "8     9.102468\n",
       "9   -68.897526\n",
       "Name: x8, dtype: float64"
      ]
     },
     "execution_count": 10,
     "metadata": {},
     "output_type": "execute_result"
    }
   ],
   "source": [
    "(train.x8/0.04332159).head(10)"
   ]
  },
  {
   "cell_type": "code",
   "execution_count": 11,
   "metadata": {
    "run_control": {
     "frozen": false,
     "read_only": false
    },
    "scrolled": true
   },
   "outputs": [
    {
     "data": {
      "text/plain": [
       "0   -15.999998\n",
       "1    20.000000\n",
       "2    10.000000\n",
       "3     0.000001\n",
       "4    11.000000\n",
       "5   -68.999994\n",
       "6    10.000000\n",
       "7    15.000000\n",
       "8     9.000000\n",
       "9   -68.999994\n",
       "Name: x8, dtype: float64"
      ]
     },
     "execution_count": 11,
     "metadata": {},
     "output_type": "execute_result"
    }
   ],
   "source": [
    "# Ok, now we see .102468 in every value\n",
    "# this looks like a part of a mean that was subtracted during standard scaling\n",
    "# If we subtract it, the values become almost integers\n",
    "(train.x8/0.04332159 - .102468).head(10)"
   ]
  },
  {
   "cell_type": "code",
   "execution_count": 12,
   "metadata": {
    "run_control": {
     "frozen": false,
     "read_only": false
    }
   },
   "outputs": [
    {
     "data": {
      "text/plain": [
       "0   -16.0\n",
       "1    20.0\n",
       "2    10.0\n",
       "3     0.0\n",
       "4    11.0\n",
       "5   -69.0\n",
       "6    10.0\n",
       "7    15.0\n",
       "8     9.0\n",
       "9   -69.0\n",
       "Name: x8, dtype: float64"
      ]
     },
     "execution_count": 12,
     "metadata": {},
     "output_type": "execute_result"
    }
   ],
   "source": [
    "# let's round them \n",
    "x8_int = (train.x8/0.04332159 - .102468).round()\n",
    "x8_int.head(10)"
   ]
  },
  {
   "cell_type": "code",
   "execution_count": 13,
   "metadata": {
    "collapsed": true,
    "run_control": {
     "frozen": false,
     "read_only": false
    }
   },
   "outputs": [],
   "source": [
    "# Ok, what's next? In fact it is not obvious how to find shift parameter, \n",
    "# and how to understand what the data this feature actually store\n",
    "# But ..."
   ]
  },
  {
   "cell_type": "code",
   "execution_count": 14,
   "metadata": {
    "run_control": {
     "frozen": false,
     "read_only": false
    }
   },
   "outputs": [
    {
     "data": {
      "text/plain": [
       "-69.0      2770\n",
       " 11.0      2569\n",
       " 14.0      1828\n",
       " 15.0      1759\n",
       " 13.0      1746\n",
       " 16.0      1691\n",
       " 12.0      1639\n",
       " 17.0      1628\n",
       " 9.0       1610\n",
       " 10.0      1513\n",
       " 8.0       1450\n",
       " 6.0       1429\n",
       " 7.0       1401\n",
       " 5.0       1372\n",
       " 18.0      1293\n",
       " 1.0       1290\n",
       " 4.0       1276\n",
       " 2.0       1250\n",
       " 3.0       1213\n",
       "-1.0       1085\n",
       " 0.0       1080\n",
       "-2.0       1006\n",
       "-4.0        995\n",
       "-3.0        976\n",
       "-5.0        954\n",
       "-8.0        923\n",
       "-9.0        921\n",
       "-6.0        906\n",
       " 19.0       893\n",
       "-7.0        881\n",
       "           ... \n",
       " 26.0         3\n",
       "-40.0         3\n",
       "-41.0         3\n",
       " 25.0         2\n",
       "-59.0         2\n",
       " 31.0         2\n",
       " 34.0         2\n",
       "-46.0         2\n",
       "-49.0         2\n",
       " 33.0         2\n",
       "-42.0         2\n",
       " 32.0         2\n",
       " 37.0         2\n",
       " 30.0         2\n",
       "-45.0         2\n",
       "-54.0         1\n",
       " 36.0         1\n",
       "-51.0         1\n",
       " 27.0         1\n",
       " 79.0         1\n",
       "-47.0         1\n",
       " 69.0         1\n",
       " 70.0         1\n",
       "-50.0         1\n",
       "-1968.0       1\n",
       " 42.0         1\n",
       "-63.0         1\n",
       "-48.0         1\n",
       "-64.0         1\n",
       " 35.0         1\n",
       "Name: x8, Length: 99, dtype: int64"
      ]
     },
     "execution_count": 14,
     "metadata": {},
     "output_type": "execute_result"
    }
   ],
   "source": [
    "x8_int.value_counts()"
   ]
  },
  {
   "cell_type": "code",
   "execution_count": null,
   "metadata": {
    "collapsed": true,
    "run_control": {
     "frozen": false,
     "read_only": false
    }
   },
   "outputs": [],
   "source": [
    "# do you see this -1968? Doesn't it look like a year? ... So my hypothesis is that this feature is a year of birth! \n",
    "# Maybe it was a textbox where users enter their year of birth, and someone entered 0000 instead\n",
    "# The hypothesis looks plausible, isn't it?"
   ]
  },
  {
   "cell_type": "code",
   "execution_count": 22,
   "metadata": {
    "run_control": {
     "frozen": false,
     "read_only": false
    }
   },
   "outputs": [
    {
     "data": {
      "text/plain": [
       "0.0          1\n",
       "999.0        4\n",
       "1899.0    2770\n",
       "1904.0       1\n",
       "1905.0       1\n",
       "1909.0       2\n",
       "1914.0       1\n",
       "1916.0       3\n",
       "1917.0       1\n",
       "1918.0       1\n",
       "1919.0       2\n",
       "1920.0       1\n",
       "1921.0       1\n",
       "1922.0       2\n",
       "1923.0       2\n",
       "1924.0       4\n",
       "1925.0       4\n",
       "1926.0       2\n",
       "1927.0       3\n",
       "1928.0       3\n",
       "1929.0       4\n",
       "1930.0       4\n",
       "1931.0      12\n",
       "1932.0      10\n",
       "1933.0       7\n",
       "1934.0      13\n",
       "1935.0      28\n",
       "1936.0      35\n",
       "1937.0      35\n",
       "1938.0      45\n",
       "          ... \n",
       "1978.0    1513\n",
       "1979.0    2569\n",
       "1980.0    1639\n",
       "1981.0    1746\n",
       "1982.0    1828\n",
       "1983.0    1759\n",
       "1984.0    1691\n",
       "1985.0    1628\n",
       "1986.0    1293\n",
       "1987.0     893\n",
       "1988.0     624\n",
       "1989.0     434\n",
       "1990.0     233\n",
       "1991.0     110\n",
       "1992.0      31\n",
       "1993.0       2\n",
       "1994.0       3\n",
       "1995.0       1\n",
       "1998.0       2\n",
       "1999.0       2\n",
       "2000.0       2\n",
       "2001.0       2\n",
       "2002.0       2\n",
       "2003.0       1\n",
       "2004.0       1\n",
       "2005.0       2\n",
       "2010.0       1\n",
       "2037.0       1\n",
       "2038.0       1\n",
       "2047.0       1\n",
       "Name: x8, Length: 99, dtype: int64"
      ]
     },
     "execution_count": 22,
     "metadata": {},
     "output_type": "execute_result"
    }
   ],
   "source": [
    "(x8_int + 1968.0).value_counts().sort_index()"
   ]
  },
  {
   "cell_type": "code",
   "execution_count": 23,
   "metadata": {
    "collapsed": true,
    "run_control": {
     "frozen": false,
     "read_only": false
    }
   },
   "outputs": [],
   "source": [
    "# After the competition ended the organisers told it was really a year of birth"
   ]
  }
 ],
 "metadata": {
  "kernelspec": {
   "display_name": "Python 2",
   "language": "python",
   "name": "python2"
  },
  "language_info": {
   "codemirror_mode": {
    "name": "ipython",
    "version": 2
   },
   "file_extension": ".py",
   "mimetype": "text/x-python",
   "name": "python",
   "nbconvert_exporter": "python",
   "pygments_lexer": "ipython2",
   "version": "2.7.13"
  }
 },
 "nbformat": 4,
 "nbformat_minor": 2
}
