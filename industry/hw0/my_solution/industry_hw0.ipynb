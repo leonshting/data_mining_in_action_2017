{
 "cells": [
  {
   "cell_type": "markdown",
   "metadata": {},
   "source": [
    "# Часть 1\n",
    "\n",
    "Поставить python и все библиотеки"
   ]
  },
  {
   "cell_type": "code",
   "execution_count": 11,
   "metadata": {
    "collapsed": true
   },
   "outputs": [],
   "source": [
    "from sklearn.ensemble import RandomForestClassifier\n",
    "from sklearn.datasets import load_iris\n",
    "from sklearn.model_selection import cross_val_score\n",
    "\n",
    "import smallestenclosingcircle\n",
    "import numpy as np"
   ]
  },
  {
   "cell_type": "code",
   "execution_count": 3,
   "metadata": {},
   "outputs": [
    {
     "name": "stdout",
     "output_type": "stream",
     "text": [
      "0.7132\n"
     ]
    }
   ],
   "source": [
    "iris = load_iris()\n",
    "\n",
    "X = iris.data[:, :2]\n",
    "y = iris.target\n",
    "\n",
    "print(round(np.mean(cross_val_score(RandomForestClassifier(random_state=42), X, y, cv=3)), 4))"
   ]
  },
  {
   "cell_type": "markdown",
   "metadata": {},
   "source": [
    "#### Вопрос 1. Что выведет этот код?"
   ]
  },
  {
   "cell_type": "markdown",
   "metadata": {},
   "source": [
    "# Часть 2\n"
   ]
  },
  {
   "cell_type": "code",
   "execution_count": 4,
   "metadata": {
    "collapsed": true
   },
   "outputs": [],
   "source": [
    "iris = load_iris()\n",
    "\n",
    "X = iris.data[:, :2]\n",
    "y = iris.target"
   ]
  },
  {
   "cell_type": "code",
   "execution_count": 12,
   "metadata": {},
   "outputs": [
    {
     "data": {
      "text/plain": [
       "(6.155223880597015, 3.1514925373134326, 1.861398838508048)"
      ]
     },
     "execution_count": 12,
     "metadata": {},
     "output_type": "execute_result"
    }
   ],
   "source": [
    "smallestenclosingcircle.make_circle(points=X)"
   ]
  },
  {
   "cell_type": "markdown",
   "metadata": {},
   "source": [
    "#### Вопрос 2. Каков минимальный радиус круга, содержащего все точки из $X$? Ответ округлите до 4 знака после запятой."
   ]
  },
  {
   "cell_type": "markdown",
   "metadata": {},
   "source": [
    "https://ru.wikipedia.org/wiki/Пауль_(осьминог)\n",
    "\n",
    "Этот осьминог предсказывал результаты футбольных матчей на  ЧЕ-2008 и ЧМ-2010. Нужно проанализировать его предсказания, считая, что футбольный матч обязательно заканчивается победой одной из команд, а осьминог возможно выбирал равновероятно наугад."
   ]
  },
  {
   "cell_type": "markdown",
   "metadata": {},
   "source": [
    "#### Вопрос 3. Какова вероятность получить именно те предсказания, что дал осьминог, выбирая наугад? Ответ округлите до 5 знака после запятой."
   ]
  },
  {
   "cell_type": "code",
   "execution_count": 30,
   "metadata": {},
   "outputs": [
    {
     "data": {
      "text/plain": [
       "6.103515625e-05"
      ]
     },
     "execution_count": 30,
     "metadata": {},
     "output_type": "execute_result"
    }
   ],
   "source": [
    "1/(2**14)"
   ]
  },
  {
   "cell_type": "markdown",
   "metadata": {},
   "source": [
    "#### Вопрос 4. Какова вероятность ошибиться не меньшее число раз, чем осьминог Пауль, выбирая наугад? Ответ округлите до 5 знака после запятой."
   ]
  },
  {
   "cell_type": "code",
   "execution_count": 31,
   "metadata": {},
   "outputs": [
    {
     "data": {
      "text/plain": [
       "0.0064697265625"
      ]
     },
     "execution_count": 31,
     "metadata": {},
     "output_type": "execute_result"
    }
   ],
   "source": [
    "(1 + 14 + 14*13//2)/2**14"
   ]
  },
  {
   "cell_type": "markdown",
   "metadata": {},
   "source": [
    "# Часть 3\n"
   ]
  },
  {
   "cell_type": "markdown",
   "metadata": {},
   "source": [
    "#### Вопрос 5. У вас есть набор зависимости $y$ от одной переменной $x$, причём вы знаете, что эта зависимость линейная ($y=ax + b$). Вам нужно восстановить эту зависимость, решив оптимизационную задачу $\\min_{a, b} \\sum_{i=1}^n (ax_i + b - y_i)^2$.\n",
    "\n",
    "#### Проблема в том, что выборка очень большая, поэтому её нельзя полностью загрузить в память. Ответом на вопрос является строка в питоновском формате '{}_{}'.format(round(a, 5), round(b, 5)), например, '0.00001_0.00002'."
   ]
  },
  {
   "cell_type": "code",
   "execution_count": 158,
   "metadata": {
    "collapsed": true
   },
   "outputs": [],
   "source": [
    "def generator():\n",
    "    rand_gen = np.random.RandomState(42)\n",
    "    for i in range(100000):\n",
    "        arr_of_x = 10 * rand_gen.uniform(size=10000)\n",
    "        arr_of_noise = 40 * rand_gen.normal(size=10000)\n",
    "        for x, noise in zip(arr_of_x, arr_of_noise):\n",
    "            yield x, 3.14 * x + 8.3 + noise"
   ]
  },
  {
   "cell_type": "code",
   "execution_count": 159,
   "metadata": {
    "collapsed": true
   },
   "outputs": [],
   "source": [
    "def solver(seq):\n",
    "    # Напишите здесь свой код\n",
    "    init_points = [next(seq) for i in range(4)]\n",
    "    X_init = np.array([np.array([x[0], 1]) for x in init_points])\n",
    "    y_init = np.array([np.array([x[1]]) for x in init_points])\n",
    "    \n",
    "    MTM = np.dot(X_init.T, X_init)\n",
    "    MTY = np.dot(X_init.T, y_init).flatten()\n",
    "    print(MTM)\n",
    "    for num, point in enumerate(seq):\n",
    "        add_x = np.array([[point[0], 1]])\n",
    "        add_y = point[1]\n",
    "        MTM = MTM * (num)/(num+1) + np.dot(add_x.T, add_x)/(num+1)\n",
    "        MTY = MTY * (num)/(num+1) + (add_x*add_y).reshape((2,))/(num+1)\n",
    "    ret = np.dot(np.linalg.inv(MTM), MTY)\n",
    "    return ret[0], ret[1]\n",
    "        "
   ]
  },
  {
   "cell_type": "code",
   "execution_count": 161,
   "metadata": {},
   "outputs": [
    {
     "name": "stdout",
     "output_type": "stream",
     "text": [
      "[[ 193.83451046   26.55906851]\n",
      " [  26.55906851    4.        ]]\n",
      "3.13957_8.30331\n",
      "CPU times: user 5h 4min 17s, sys: 5min 40s, total: 5h 9min 58s\n",
      "Wall time: 5h 10min 1s\n"
     ]
    }
   ],
   "source": [
    "%%time\n",
    "a, b = solver(generator())\n",
    "print('{}_{}'.format(round(a, 5), round(b, 5)))"
   ]
  },
  {
   "cell_type": "markdown",
   "metadata": {},
   "source": [
    "#### Вам дается две выборки с пользовательскими сессиями - id-шниками просмотренных и id-шниками купленных товаров. Одна выборка будет использоваться для обучения (оценки популярностей товаров), а другая - для теста.\n",
    "\n",
    "#### В файлах записаны сессии по одной в каждой строке. Формат сессии: id просмотренных товаров через \",\" затем идёт \";\" после чего следуют id купленных товаров (если такие имеются), разделённые запятой. Например, \"1,2,3,4;\" или \"1,2,3,4;5,6\". Гарантируется, что среди id купленных товаров все различные.\n",
    "\n",
    "#### Вопросы 6-7. Будем считать, что цена товара равна его id % 100 + 1. Найдите разницу денежного recall для сортировки по вероятности покупки (методы уже реализованы) без умножения на цену и с умножением на цену для train и для test. Ответ округлите до 5 знака после запятой.\n",
    "\n",
    "#### У вас есть код для подсчёта обычного recall, вам нужно переписать его, взвесив объекты их ценой. Знаменатель будет равен сумме цен купленных товаров.\n",
    "\n"
   ]
  },
  {
   "cell_type": "code",
   "execution_count": 1,
   "metadata": {
    "collapsed": true
   },
   "outputs": [],
   "source": [
    "from collections import Counter\n",
    "from collections import OrderedDict\n",
    "import numpy as np\n",
    "import pandas\n",
    "import heapq"
   ]
  },
  {
   "cell_type": "code",
   "execution_count": 2,
   "metadata": {
    "collapsed": true
   },
   "outputs": [],
   "source": [
    "visit_popularity = Counter()\n",
    "purchase_popularity = Counter()\n",
    "\n",
    "with open('train.txt', 'r') as f:\n",
    "    for line in f.readlines():\n",
    "        visits, purchases = line.strip().split(';')\n",
    "        for visit in visits.split(','):\n",
    "            visit_popularity[visit] += 1\n",
    "        if purchases != '':\n",
    "            for purchase in purchases.split(','):\n",
    "                purchase_popularity[purchase] += 1\n",
    "\n",
    "                \n",
    "def get_item_price(item_id):\n",
    "    return int(item_id) % 100 + 1"
   ]
  },
  {
   "cell_type": "code",
   "execution_count": 3,
   "metadata": {
    "collapsed": true
   },
   "outputs": [],
   "source": [
    "def recommend_by_purchase(items, max_count):\n",
    "    return heapq.nlargest(max_count, OrderedDict.fromkeys(items), key=lambda x: purchase_popularity.get(x, 0))\n",
    "\n",
    "def recommend_by_purchase_price_aware(items, max_count):\n",
    "    return heapq.nlargest(max_count, OrderedDict.fromkeys(items), key=lambda x: get_item_price(x) * purchase_popularity.get(x, 0))"
   ]
  },
  {
   "cell_type": "code",
   "execution_count": 4,
   "metadata": {
    "collapsed": true
   },
   "outputs": [],
   "source": [
    "# Допишите код в функции, чтобы считался recall, взвешенный ценами\n",
    "\n",
    "def calculate_metrics(recommend, max_count, sessions_file):\n",
    "    with open(sessions_file, 'r') as f:\n",
    "        avg_recall = np.zeros(max_count)\n",
    "        sessions_count = 0\n",
    "        for line in f.readlines():\n",
    "            visits, purchases = line.strip().split(';')\n",
    "            if purchases != '':\n",
    "                visits = visits.split(',')\n",
    "                purchases = set(purchases.split(','))\n",
    "                prices_sum_pur = np.array([get_item_price(i) for i in purchases]).sum()\n",
    "                \n",
    "                rec = recommend(visits, max_count)\n",
    "                rec_hits = np.array([(x in purchases) for x in rec])\n",
    "                hits = np.zeros(max_count)\n",
    "                prices = np.zeros(max_count)\n",
    "                hits[:len(rec_hits)] = rec_hits\n",
    "                \n",
    "                prices[:len(rec_hits)] = np.array([get_item_price(i) for i in rec])\n",
    "                hits *= prices\n",
    "                sessions_count += 1\n",
    "                avg_recall +=  np.cumsum(hits).astype(np.float32) / (prices_sum_pur)\n",
    "    return pandas.DataFrame({\n",
    "            'k': np.arange(max_count) + 1,\n",
    "            'avg_recall@k': avg_recall / sessions_count,\n",
    "    }).set_index('k')"
   ]
  },
  {
   "cell_type": "code",
   "execution_count": 5,
   "metadata": {},
   "outputs": [
    {
     "name": "stdout",
     "output_type": "stream",
     "text": [
      "0.00973\n"
     ]
    }
   ],
   "source": [
    "print(round((\n",
    "    calculate_metrics(recommend_by_purchase_price_aware, 3, 'train.txt') \n",
    "    - calculate_metrics(recommend_by_purchase, 3, 'train.txt')\n",
    ")['avg_recall@k'][3], 5))"
   ]
  },
  {
   "cell_type": "code",
   "execution_count": 6,
   "metadata": {},
   "outputs": [
    {
     "name": "stdout",
     "output_type": "stream",
     "text": [
      "-0.00273\n"
     ]
    }
   ],
   "source": [
    "print(round((\n",
    "    calculate_metrics(recommend_by_purchase_price_aware, 3, 'test.txt') \n",
    "    - calculate_metrics(recommend_by_purchase, 3, 'test.txt')\n",
    ")['avg_recall@k'][3], 5))"
   ]
  },
  {
   "cell_type": "code",
   "execution_count": 167,
   "metadata": {},
   "outputs": [
    {
     "data": {
      "text/html": [
       "<div>\n",
       "<style>\n",
       "    .dataframe thead tr:only-child th {\n",
       "        text-align: right;\n",
       "    }\n",
       "\n",
       "    .dataframe thead th {\n",
       "        text-align: left;\n",
       "    }\n",
       "\n",
       "    .dataframe tbody tr th {\n",
       "        vertical-align: top;\n",
       "    }\n",
       "</style>\n",
       "<table border=\"1\" class=\"dataframe\">\n",
       "  <thead>\n",
       "    <tr style=\"text-align: right;\">\n",
       "      <th></th>\n",
       "      <th>avg_recall@k</th>\n",
       "    </tr>\n",
       "    <tr>\n",
       "      <th>k</th>\n",
       "      <th></th>\n",
       "    </tr>\n",
       "  </thead>\n",
       "  <tbody>\n",
       "    <tr>\n",
       "      <th>1</th>\n",
       "      <td>0.645221</td>\n",
       "    </tr>\n",
       "    <tr>\n",
       "      <th>2</th>\n",
       "      <td>0.754791</td>\n",
       "    </tr>\n",
       "    <tr>\n",
       "      <th>3</th>\n",
       "      <td>0.794493</td>\n",
       "    </tr>\n",
       "  </tbody>\n",
       "</table>\n",
       "</div>"
      ],
      "text/plain": [
       "   avg_recall@k\n",
       "k              \n",
       "1      0.645221\n",
       "2      0.754791\n",
       "3      0.794493"
      ]
     },
     "execution_count": 167,
     "metadata": {},
     "output_type": "execute_result"
    }
   ],
   "source": [
    "calculate_metrics(recommend_by_purchase_price_aware, 3, 'train.txt')"
   ]
  },
  {
   "cell_type": "code",
   "execution_count": 168,
   "metadata": {},
   "outputs": [
    {
     "data": {
      "text/html": [
       "<div>\n",
       "<style>\n",
       "    .dataframe thead tr:only-child th {\n",
       "        text-align: right;\n",
       "    }\n",
       "\n",
       "    .dataframe thead th {\n",
       "        text-align: left;\n",
       "    }\n",
       "\n",
       "    .dataframe tbody tr th {\n",
       "        vertical-align: top;\n",
       "    }\n",
       "</style>\n",
       "<table border=\"1\" class=\"dataframe\">\n",
       "  <thead>\n",
       "    <tr style=\"text-align: right;\">\n",
       "      <th></th>\n",
       "      <th>avg_recall@k</th>\n",
       "    </tr>\n",
       "    <tr>\n",
       "      <th>k</th>\n",
       "      <th></th>\n",
       "    </tr>\n",
       "  </thead>\n",
       "  <tbody>\n",
       "    <tr>\n",
       "      <th>1</th>\n",
       "      <td>0.646438</td>\n",
       "    </tr>\n",
       "    <tr>\n",
       "      <th>2</th>\n",
       "      <td>0.756991</td>\n",
       "    </tr>\n",
       "    <tr>\n",
       "      <th>3</th>\n",
       "      <td>0.790948</td>\n",
       "    </tr>\n",
       "  </tbody>\n",
       "</table>\n",
       "</div>"
      ],
      "text/plain": [
       "   avg_recall@k\n",
       "k              \n",
       "1      0.646438\n",
       "2      0.756991\n",
       "3      0.790948"
      ]
     },
     "execution_count": 168,
     "metadata": {},
     "output_type": "execute_result"
    }
   ],
   "source": [
    "calculate_metrics(recommend_by_purchase, 3, 'train.txt')"
   ]
  },
  {
   "cell_type": "code",
   "execution_count": null,
   "metadata": {
    "collapsed": true
   },
   "outputs": [],
   "source": []
  }
 ],
 "metadata": {
  "kernelspec": {
   "display_name": "Python 3",
   "language": "python",
   "name": "python3"
  },
  "language_info": {
   "codemirror_mode": {
    "name": "ipython",
    "version": 3
   },
   "file_extension": ".py",
   "mimetype": "text/x-python",
   "name": "python",
   "nbconvert_exporter": "python",
   "pygments_lexer": "ipython3",
   "version": "3.6.0"
  }
 },
 "nbformat": 4,
 "nbformat_minor": 2
}
